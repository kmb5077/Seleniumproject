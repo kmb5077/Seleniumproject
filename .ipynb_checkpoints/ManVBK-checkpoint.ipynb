{
 "cells": [
  {
   "cell_type": "code",
   "execution_count": 1,
   "metadata": {},
   "outputs": [
    {
     "name": "stderr",
     "output_type": "stream",
     "text": [
      "/anaconda3/lib/python3.6/site-packages/ipykernel_launcher.py:14: SettingWithCopyWarning: \n",
      "A value is trying to be set on a copy of a slice from a DataFrame.\n",
      "Try using .loc[row_indexer,col_indexer] = value instead\n",
      "\n",
      "See the caveats in the documentation: http://pandas.pydata.org/pandas-docs/stable/indexing.html#indexing-view-versus-copy\n",
      "  \n",
      "/anaconda3/lib/python3.6/site-packages/ipykernel_launcher.py:15: SettingWithCopyWarning: \n",
      "A value is trying to be set on a copy of a slice from a DataFrame.\n",
      "Try using .loc[row_indexer,col_indexer] = value instead\n",
      "\n",
      "See the caveats in the documentation: http://pandas.pydata.org/pandas-docs/stable/indexing.html#indexing-view-versus-copy\n",
      "  from ipykernel import kernelapp as app\n",
      "/anaconda3/lib/python3.6/site-packages/ipykernel_launcher.py:16: SettingWithCopyWarning: \n",
      "A value is trying to be set on a copy of a slice from a DataFrame.\n",
      "Try using .loc[row_indexer,col_indexer] = value instead\n",
      "\n",
      "See the caveats in the documentation: http://pandas.pydata.org/pandas-docs/stable/indexing.html#indexing-view-versus-copy\n",
      "  app.launch_new_instance()\n",
      "/anaconda3/lib/python3.6/site-packages/ipykernel_launcher.py:17: SettingWithCopyWarning: \n",
      "A value is trying to be set on a copy of a slice from a DataFrame.\n",
      "Try using .loc[row_indexer,col_indexer] = value instead\n",
      "\n",
      "See the caveats in the documentation: http://pandas.pydata.org/pandas-docs/stable/indexing.html#indexing-view-versus-copy\n",
      "/anaconda3/lib/python3.6/site-packages/ipykernel_launcher.py:18: SettingWithCopyWarning: \n",
      "A value is trying to be set on a copy of a slice from a DataFrame.\n",
      "Try using .loc[row_indexer,col_indexer] = value instead\n",
      "\n",
      "See the caveats in the documentation: http://pandas.pydata.org/pandas-docs/stable/indexing.html#indexing-view-versus-copy\n",
      "/anaconda3/lib/python3.6/site-packages/ipykernel_launcher.py:19: SettingWithCopyWarning: \n",
      "A value is trying to be set on a copy of a slice from a DataFrame.\n",
      "Try using .loc[row_indexer,col_indexer] = value instead\n",
      "\n",
      "See the caveats in the documentation: http://pandas.pydata.org/pandas-docs/stable/indexing.html#indexing-view-versus-copy\n",
      "/anaconda3/lib/python3.6/site-packages/ipykernel_launcher.py:20: SettingWithCopyWarning: \n",
      "A value is trying to be set on a copy of a slice from a DataFrame.\n",
      "Try using .loc[row_indexer,col_indexer] = value instead\n",
      "\n",
      "See the caveats in the documentation: http://pandas.pydata.org/pandas-docs/stable/indexing.html#indexing-view-versus-copy\n",
      "/anaconda3/lib/python3.6/site-packages/ipykernel_launcher.py:21: SettingWithCopyWarning: \n",
      "A value is trying to be set on a copy of a slice from a DataFrame.\n",
      "Try using .loc[row_indexer,col_indexer] = value instead\n",
      "\n",
      "See the caveats in the documentation: http://pandas.pydata.org/pandas-docs/stable/indexing.html#indexing-view-versus-copy\n",
      "/anaconda3/lib/python3.6/site-packages/ipykernel_launcher.py:22: SettingWithCopyWarning: \n",
      "A value is trying to be set on a copy of a slice from a DataFrame.\n",
      "Try using .loc[row_indexer,col_indexer] = value instead\n",
      "\n",
      "See the caveats in the documentation: http://pandas.pydata.org/pandas-docs/stable/indexing.html#indexing-view-versus-copy\n",
      "/anaconda3/lib/python3.6/site-packages/ipykernel_launcher.py:23: SettingWithCopyWarning: \n",
      "A value is trying to be set on a copy of a slice from a DataFrame.\n",
      "Try using .loc[row_indexer,col_indexer] = value instead\n",
      "\n",
      "See the caveats in the documentation: http://pandas.pydata.org/pandas-docs/stable/indexing.html#indexing-view-versus-copy\n",
      "/anaconda3/lib/python3.6/site-packages/ipykernel_launcher.py:24: SettingWithCopyWarning: \n",
      "A value is trying to be set on a copy of a slice from a DataFrame.\n",
      "Try using .loc[row_indexer,col_indexer] = value instead\n",
      "\n",
      "See the caveats in the documentation: http://pandas.pydata.org/pandas-docs/stable/indexing.html#indexing-view-versus-copy\n",
      "/anaconda3/lib/python3.6/site-packages/ipykernel_launcher.py:25: SettingWithCopyWarning: \n",
      "A value is trying to be set on a copy of a slice from a DataFrame.\n",
      "Try using .loc[row_indexer,col_indexer] = value instead\n",
      "\n",
      "See the caveats in the documentation: http://pandas.pydata.org/pandas-docs/stable/indexing.html#indexing-view-versus-copy\n",
      "/anaconda3/lib/python3.6/site-packages/ipykernel_launcher.py:26: SettingWithCopyWarning: \n",
      "A value is trying to be set on a copy of a slice from a DataFrame.\n",
      "Try using .loc[row_indexer,col_indexer] = value instead\n",
      "\n",
      "See the caveats in the documentation: http://pandas.pydata.org/pandas-docs/stable/indexing.html#indexing-view-versus-copy\n",
      "/anaconda3/lib/python3.6/site-packages/ipykernel_launcher.py:27: SettingWithCopyWarning: \n",
      "A value is trying to be set on a copy of a slice from a DataFrame.\n",
      "Try using .loc[row_indexer,col_indexer] = value instead\n",
      "\n",
      "See the caveats in the documentation: http://pandas.pydata.org/pandas-docs/stable/indexing.html#indexing-view-versus-copy\n"
     ]
    }
   ],
   "source": [
    "import pandas as pd\n",
    "import numpy as np\n",
    "from matplotlib import pyplot as plt\n",
    "plt.style.use('ggplot')\n",
    "import seaborn as sns\n",
    "import math\n",
    "\n",
    "rawdf = pd.read_csv(\"apts2.csv\",header=None)\n",
    "rawdf.columns = ['Address', 'Neighborhood','Price','Apt Type','Bedrooms','Bathrooms','Rooms','Sqft','Description']\n",
    "rawdf2= pd.read_csv(\"aptsbk.csv\",header=None)\n",
    "rawdf2.columns = ['Address', 'Neighborhood','Price','Apt Type','Bedrooms','Bathrooms','Rooms','Sqft','Description']\n",
    "man=rawdf.dropna(axis=0)\n",
    "bk=rawdf2.dropna(axis=0)\n",
    "man[\"Price\"]=list(map(lambda x: x.replace(',',''.strip()),man[\"Price\"]))\n",
    "man[\"Price\"]=list(map(lambda x: x.replace('$',''.strip()),man[\"Price\"]))\n",
    "man[\"Price\"]=man[\"Price\"].astype('int')\n",
    "man[\"Sqft\"]=list(map(lambda x: x.replace(',',''.strip()),man[\"Sqft\"]))\n",
    "man[\"Sqft\"]=man[\"Sqft\"].astype('int')\n",
    "man[\"$/Sqft\"]=man[\"Price\"]/man['Sqft']\n",
    "bk[\"Price\"]=list(map(lambda x: x.replace(',',''.strip()),bk[\"Price\"]))\n",
    "bk[\"Price\"]=list(map(lambda x: x.replace('$',''.strip()),bk[\"Price\"]))\n",
    "bk[\"Price\"]=bk[\"Price\"].astype('int')\n",
    "bk[\"Sqft\"]=list(map(lambda x: x.replace(',',''.strip()),bk[\"Sqft\"]))\n",
    "bk[\"Sqft\"]=bk[\"Sqft\"].astype('int')\n",
    "bk[\"$/Sqft\"]=bk[\"Price\"]/bk['Sqft']\n",
    "man['Log_Price']=man['Price'].apply(math.log)\n",
    "bk['Log_Price']=bk['Price'].apply(math.log)"
   ]
  },
  {
   "cell_type": "code",
   "execution_count": 2,
   "metadata": {},
   "outputs": [
    {
     "data": {
      "text/plain": [
       "Bedrooms\n",
       "1.0     1.311617e+06\n",
       "2.0     2.852157e+06\n",
       "3.0     5.750734e+06\n",
       "4.0     1.168653e+07\n",
       "5.0     1.231075e+07\n",
       "6.0     1.279214e+07\n",
       "7.0     2.889900e+07\n",
       "8.0     1.337500e+07\n",
       "9.0     4.750000e+06\n",
       "12.0    8.900000e+06\n",
       "Name: Price, dtype: float64"
      ]
     },
     "execution_count": 2,
     "metadata": {},
     "output_type": "execute_result"
    }
   ],
   "source": [
    "manbed=man.groupby('Bedrooms')['Price'].mean()\n",
    "manbed"
   ]
  },
  {
   "cell_type": "code",
   "execution_count": 18,
   "metadata": {},
   "outputs": [],
   "source": [
    "manlist=manbed.tolist()"
   ]
  },
  {
   "cell_type": "code",
   "execution_count": 23,
   "metadata": {},
   "outputs": [],
   "source": [
    "del manlist[-1]"
   ]
  },
  {
   "cell_type": "code",
   "execution_count": 24,
   "metadata": {},
   "outputs": [
    {
     "data": {
      "text/plain": [
       "[1311617.2268907563,\n",
       " 2852156.627615063,\n",
       " 5750733.989130435,\n",
       " 11686527.857142856,\n",
       " 12310750.0,\n",
       " 12792142.857142856,\n",
       " 28899000.0]"
      ]
     },
     "execution_count": 24,
     "metadata": {},
     "output_type": "execute_result"
    }
   ],
   "source": [
    "manlist"
   ]
  },
  {
   "cell_type": "code",
   "execution_count": 6,
   "metadata": {},
   "outputs": [
    {
     "data": {
      "text/plain": [
       "Bedrooms\n",
       "1.0     8.110435e+05\n",
       "1.5     9.457500e+05\n",
       "2.0     1.373609e+06\n",
       "2.5     1.450000e+06\n",
       "3.0     2.077207e+06\n",
       "4.0     2.565000e+06\n",
       "4.5     2.495000e+06\n",
       "5.0     2.193971e+06\n",
       "6.0     2.391208e+06\n",
       "7.0     3.325188e+06\n",
       "8.0     2.640778e+06\n",
       "9.0     4.450000e+06\n",
       "10.0    2.912500e+06\n",
       "11.0    1.795000e+06\n",
       "12.0    2.616333e+06\n",
       "Name: Price, dtype: float64"
      ]
     },
     "execution_count": 6,
     "metadata": {},
     "output_type": "execute_result"
    }
   ],
   "source": [
    "bkbed=bk.groupby('Bedrooms')['Price'].mean()\n",
    "bkbed"
   ]
  },
  {
   "cell_type": "code",
   "execution_count": 7,
   "metadata": {},
   "outputs": [],
   "source": [
    "bklist=bkbed.tolist()\n"
   ]
  },
  {
   "cell_type": "code",
   "execution_count": 8,
   "metadata": {},
   "outputs": [],
   "source": [
    "bklist2=[811043.4782608695,\n",
    " 1373609.3258426967,\n",
    " 2077206.9846153846,\n",
    " 2565000.0,\n",
    " 2193971.052631579,\n",
    " 2391208.125,\n",
    " 3325187.5,\n",
    "]"
   ]
  },
  {
   "cell_type": "code",
   "execution_count": 29,
   "metadata": {},
   "outputs": [
    {
     "data": {
      "image/png": "[encoded data removed]",
      "text/plain": [
       "<Figure size 1080x720 with 1 Axes>"
      ]
     },
     "metadata": {
      "needs_background": "light"
     },
     "output_type": "display_data"
    }
   ],
   "source": [
    "bedrooms=range(1,8)\n",
    "plt.plot(bedrooms, bklist2, color='g')\n",
    "plt.plot(bedrooms, manlist, color='orange')\n",
    "plt.xlabel('Boros')\n",
    "plt.ylabel('Avg Price in Millions')\n",
    "plt.title('Avg Price per bedroom apt in Boro')\n",
    "plt.gcf().set_size_inches((15, 10))    \n",
    "plt.show()"
   ]
  },
  {
   "cell_type": "code",
   "execution_count": 26,
   "metadata": {},
   "outputs": [
    {
     "data": {
      "text/html": [
       "<div>\n",
       "<style scoped>\n",
       "    .dataframe tbody tr th:only-of-type {\n",
       "        vertical-align: middle;\n",
       "    }\n",
       "\n",
       "    .dataframe tbody tr th {\n",
       "        vertical-align: top;\n",
       "    }\n",
       "\n",
       "    .dataframe thead th {\n",
       "        text-align: right;\n",
       "    }\n",
       "</style>\n",
       "<table border=\"1\" class=\"dataframe\">\n",
       "  <thead>\n",
       "    <tr style=\"text-align: right;\">\n",
       "      <th></th>\n",
       "      <th>Price</th>\n",
       "      <th>Bedrooms</th>\n",
       "      <th>Bathrooms</th>\n",
       "      <th>Rooms</th>\n",
       "      <th>Sqft</th>\n",
       "      <th>$/Sqft</th>\n",
       "      <th>Log_Price</th>\n",
       "    </tr>\n",
       "  </thead>\n",
       "  <tbody>\n",
       "    <tr>\n",
       "      <th>count</th>\n",
       "      <td>6.900000e+02</td>\n",
       "      <td>690.000000</td>\n",
       "      <td>690.000000</td>\n",
       "      <td>690.000000</td>\n",
       "      <td>690.000000</td>\n",
       "      <td>690.000000</td>\n",
       "      <td>690.000000</td>\n",
       "    </tr>\n",
       "    <tr>\n",
       "      <th>mean</th>\n",
       "      <td>5.414923e+06</td>\n",
       "      <td>2.653623</td>\n",
       "      <td>2.789130</td>\n",
       "      <td>5.528986</td>\n",
       "      <td>2203.881159</td>\n",
       "      <td>2120.853043</td>\n",
       "      <td>15.052200</td>\n",
       "    </tr>\n",
       "    <tr>\n",
       "      <th>std</th>\n",
       "      <td>6.857999e+06</td>\n",
       "      <td>1.329697</td>\n",
       "      <td>1.476752</td>\n",
       "      <td>2.703253</td>\n",
       "      <td>1641.353337</td>\n",
       "      <td>1081.420457</td>\n",
       "      <td>0.911968</td>\n",
       "    </tr>\n",
       "    <tr>\n",
       "      <th>min</th>\n",
       "      <td>4.350000e+05</td>\n",
       "      <td>1.000000</td>\n",
       "      <td>1.000000</td>\n",
       "      <td>2.000000</td>\n",
       "      <td>500.000000</td>\n",
       "      <td>576.666667</td>\n",
       "      <td>12.983101</td>\n",
       "    </tr>\n",
       "    <tr>\n",
       "      <th>25%</th>\n",
       "      <td>1.814492e+06</td>\n",
       "      <td>2.000000</td>\n",
       "      <td>2.000000</td>\n",
       "      <td>4.000000</td>\n",
       "      <td>1201.250000</td>\n",
       "      <td>1410.296955</td>\n",
       "      <td>14.411311</td>\n",
       "    </tr>\n",
       "    <tr>\n",
       "      <th>50%</th>\n",
       "      <td>3.300000e+06</td>\n",
       "      <td>2.000000</td>\n",
       "      <td>2.500000</td>\n",
       "      <td>5.000000</td>\n",
       "      <td>1703.000000</td>\n",
       "      <td>1891.963682</td>\n",
       "      <td>15.009433</td>\n",
       "    </tr>\n",
       "    <tr>\n",
       "      <th>75%</th>\n",
       "      <td>5.690000e+06</td>\n",
       "      <td>3.000000</td>\n",
       "      <td>3.500000</td>\n",
       "      <td>6.000000</td>\n",
       "      <td>2590.500000</td>\n",
       "      <td>2603.768370</td>\n",
       "      <td>15.554220</td>\n",
       "    </tr>\n",
       "    <tr>\n",
       "      <th>max</th>\n",
       "      <td>6.500000e+07</td>\n",
       "      <td>12.000000</td>\n",
       "      <td>10.500000</td>\n",
       "      <td>25.000000</td>\n",
       "      <td>14539.000000</td>\n",
       "      <td>8125.000000</td>\n",
       "      <td>17.989898</td>\n",
       "    </tr>\n",
       "  </tbody>\n",
       "</table>\n",
       "</div>"
      ],
      "text/plain": [
       "              Price    Bedrooms   Bathrooms       Rooms          Sqft  \\\n",
       "count  6.900000e+02  690.000000  690.000000  690.000000    690.000000   \n",
       "mean   5.414923e+06    2.653623    2.789130    5.528986   2203.881159   \n",
       "std    6.857999e+06    1.329697    1.476752    2.703253   1641.353337   \n",
       "min    4.350000e+05    1.000000    1.000000    2.000000    500.000000   \n",
       "25%    1.814492e+06    2.000000    2.000000    4.000000   1201.250000   \n",
       "50%    3.300000e+06    2.000000    2.500000    5.000000   1703.000000   \n",
       "75%    5.690000e+06    3.000000    3.500000    6.000000   2590.500000   \n",
       "max    6.500000e+07   12.000000   10.500000   25.000000  14539.000000   \n",
       "\n",
       "            $/Sqft   Log_Price  \n",
       "count   690.000000  690.000000  \n",
       "mean   2120.853043   15.052200  \n",
       "std    1081.420457    0.911968  \n",
       "min     576.666667   12.983101  \n",
       "25%    1410.296955   14.411311  \n",
       "50%    1891.963682   15.009433  \n",
       "75%    2603.768370   15.554220  \n",
       "max    8125.000000   17.989898  "
      ]
     },
     "execution_count": 26,
     "metadata": {},
     "output_type": "execute_result"
    }
   ],
   "source": [
    "man.describe()"
   ]
  },
  {
   "cell_type": "code",
   "execution_count": 27,
   "metadata": {},
   "outputs": [
    {
     "data": {
      "text/html": [
       "<div>\n",
       "<style scoped>\n",
       "    .dataframe tbody tr th:only-of-type {\n",
       "        vertical-align: middle;\n",
       "    }\n",
       "\n",
       "    .dataframe tbody tr th {\n",
       "        vertical-align: top;\n",
       "    }\n",
       "\n",
       "    .dataframe thead th {\n",
       "        text-align: right;\n",
       "    }\n",
       "</style>\n",
       "<table border=\"1\" class=\"dataframe\">\n",
       "  <thead>\n",
       "    <tr style=\"text-align: right;\">\n",
       "      <th></th>\n",
       "      <th>Price</th>\n",
       "      <th>Bedrooms</th>\n",
       "      <th>Bathrooms</th>\n",
       "      <th>Rooms</th>\n",
       "      <th>Sqft</th>\n",
       "      <th>$/Sqft</th>\n",
       "      <th>Log_Price</th>\n",
       "    </tr>\n",
       "  </thead>\n",
       "  <tbody>\n",
       "    <tr>\n",
       "      <th>count</th>\n",
       "      <td>3.020000e+02</td>\n",
       "      <td>302.000000</td>\n",
       "      <td>302.000000</td>\n",
       "      <td>302.000000</td>\n",
       "      <td>302.000000</td>\n",
       "      <td>302.000000</td>\n",
       "      <td>302.000000</td>\n",
       "    </tr>\n",
       "    <tr>\n",
       "      <th>mean</th>\n",
       "      <td>1.938495e+06</td>\n",
       "      <td>3.652318</td>\n",
       "      <td>2.759934</td>\n",
       "      <td>7.448675</td>\n",
       "      <td>2070.125828</td>\n",
       "      <td>1007.238664</td>\n",
       "      <td>14.309409</td>\n",
       "    </tr>\n",
       "    <tr>\n",
       "      <th>std</th>\n",
       "      <td>1.340338e+06</td>\n",
       "      <td>2.140414</td>\n",
       "      <td>1.291867</td>\n",
       "      <td>4.591974</td>\n",
       "      <td>1277.892684</td>\n",
       "      <td>385.710076</td>\n",
       "      <td>0.566223</td>\n",
       "    </tr>\n",
       "    <tr>\n",
       "      <th>min</th>\n",
       "      <td>4.000000e+05</td>\n",
       "      <td>1.000000</td>\n",
       "      <td>1.000000</td>\n",
       "      <td>3.000000</td>\n",
       "      <td>478.000000</td>\n",
       "      <td>186.403509</td>\n",
       "      <td>12.899220</td>\n",
       "    </tr>\n",
       "    <tr>\n",
       "      <th>25%</th>\n",
       "      <td>1.081500e+06</td>\n",
       "      <td>2.000000</td>\n",
       "      <td>2.000000</td>\n",
       "      <td>4.000000</td>\n",
       "      <td>1200.000000</td>\n",
       "      <td>722.656250</td>\n",
       "      <td>13.893852</td>\n",
       "    </tr>\n",
       "    <tr>\n",
       "      <th>50%</th>\n",
       "      <td>1.672500e+06</td>\n",
       "      <td>3.000000</td>\n",
       "      <td>2.500000</td>\n",
       "      <td>6.000000</td>\n",
       "      <td>1611.500000</td>\n",
       "      <td>994.090005</td>\n",
       "      <td>14.329829</td>\n",
       "    </tr>\n",
       "    <tr>\n",
       "      <th>75%</th>\n",
       "      <td>2.483750e+06</td>\n",
       "      <td>5.000000</td>\n",
       "      <td>3.500000</td>\n",
       "      <td>10.000000</td>\n",
       "      <td>2787.000000</td>\n",
       "      <td>1277.513372</td>\n",
       "      <td>14.725249</td>\n",
       "    </tr>\n",
       "    <tr>\n",
       "      <th>max</th>\n",
       "      <td>1.500000e+07</td>\n",
       "      <td>12.000000</td>\n",
       "      <td>9.000000</td>\n",
       "      <td>36.000000</td>\n",
       "      <td>10010.000000</td>\n",
       "      <td>2047.556143</td>\n",
       "      <td>16.523561</td>\n",
       "    </tr>\n",
       "  </tbody>\n",
       "</table>\n",
       "</div>"
      ],
      "text/plain": [
       "              Price    Bedrooms   Bathrooms       Rooms          Sqft  \\\n",
       "count  3.020000e+02  302.000000  302.000000  302.000000    302.000000   \n",
       "mean   1.938495e+06    3.652318    2.759934    7.448675   2070.125828   \n",
       "std    1.340338e+06    2.140414    1.291867    4.591974   1277.892684   \n",
       "min    4.000000e+05    1.000000    1.000000    3.000000    478.000000   \n",
       "25%    1.081500e+06    2.000000    2.000000    4.000000   1200.000000   \n",
       "50%    1.672500e+06    3.000000    2.500000    6.000000   1611.500000   \n",
       "75%    2.483750e+06    5.000000    3.500000   10.000000   2787.000000   \n",
       "max    1.500000e+07   12.000000    9.000000   36.000000  10010.000000   \n",
       "\n",
       "            $/Sqft   Log_Price  \n",
       "count   302.000000  302.000000  \n",
       "mean   1007.238664   14.309409  \n",
       "std     385.710076    0.566223  \n",
       "min     186.403509   12.899220  \n",
       "25%     722.656250   13.893852  \n",
       "50%     994.090005   14.329829  \n",
       "75%    1277.513372   14.725249  \n",
       "max    2047.556143   16.523561  "
      ]
     },
     "execution_count": 27,
     "metadata": {},
     "output_type": "execute_result"
    }
   ],
   "source": [
    "bk.describe()"
   ]
  },
  {
   "cell_type": "code",
   "execution_count": 28,
   "metadata": {},
   "outputs": [
    {
     "data": {
      "image/png": "[encoded data removed]",
      "text/plain": [
       "<Figure size 1080x576 with 1 Axes>"
      ]
     },
     "metadata": {
      "needs_background": "light"
     },
     "output_type": "display_data"
    }
   ],
   "source": [
    "bk['Neighborhood'].value_counts().plot(kind='bar')\n",
    "plt.gcf().set_size_inches((15, 8))    "
   ]
  },
  {
   "cell_type": "code",
   "execution_count": null,
   "metadata": {},
   "outputs": [],
   "source": []
  }
 ],
 "metadata": {
  "kernelspec": {
   "display_name": "Python 3",
   "language": "python",
   "name": "python3"
  },
  "language_info": {
   "codemirror_mode": {
    "name": "ipython",
    "version": 3
   },
   "file_extension": ".py",
   "mimetype": "text/x-python",
   "name": "python",
   "nbconvert_exporter": "python",
   "pygments_lexer": "ipython3",
   "version": "3.6.6"
  }
 },
 "nbformat": 4,
 "nbformat_minor": 2
}
