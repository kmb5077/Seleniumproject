{
 "cells": [
  {
   "cell_type": "code",
   "execution_count": 2,
   "metadata": {},
   "outputs": [],
   "source": [
    "import nltk\n",
    "import re\n",
    "from nltk.corpus import stopwords\n",
    "stop = stopwords.words('english')\n",
    "from nltk.tokenize import word_tokenize\n",
    "from textblob import TextBlob\n",
    "from wordcloud import WordCloud\n",
    "import matplotlib.pyplot as plt"
   ]
  },
  {
   "cell_type": "code",
   "execution_count": 3,
   "metadata": {},
   "outputs": [
    {
     "name": "stdout",
     "output_type": "stream",
     "text": [
      "Requirement already satisfied: textblob in /anaconda3/lib/python3.6/site-packages (0.15.1)\n",
      "Requirement already satisfied: nltk>=3.1 in /anaconda3/lib/python3.6/site-packages (from textblob) (3.2.5)\n",
      "Requirement already satisfied: six in /anaconda3/lib/python3.6/site-packages (from nltk>=3.1->textblob) (1.11.0)\n"
     ]
    }
   ],
   "source": [
    "!pip install textblob"
   ]
  },
  {
   "cell_type": "code",
   "execution_count": 4,
   "metadata": {},
   "outputs": [
    {
     "name": "stdout",
     "output_type": "stream",
     "text": [
      "['i', 'me', 'my', 'myself', 'we', 'our', 'ours', 'ourselves', 'you', \"you're\", \"you've\", \"you'll\", \"you'd\", 'your', 'yours', 'yourself', 'yourselves', 'he', 'him', 'his', 'himself', 'she', \"she's\", 'her', 'hers', 'herself', 'it', \"it's\", 'its', 'itself', 'they', 'them', 'their', 'theirs', 'themselves', 'what', 'which', 'who', 'whom', 'this', 'that', \"that'll\", 'these', 'those', 'am', 'is', 'are', 'was', 'were', 'be', 'been', 'being', 'have', 'has', 'had', 'having', 'do', 'does', 'did', 'doing', 'a', 'an', 'the', 'and', 'but', 'if', 'or', 'because', 'as', 'until', 'while', 'of', 'at', 'by', 'for', 'with', 'about', 'against', 'between', 'into', 'through', 'during', 'before', 'after', 'above', 'below', 'to', 'from', 'up', 'down', 'in', 'out', 'on', 'off', 'over', 'under', 'again', 'further', 'then', 'once', 'here', 'there', 'when', 'where', 'why', 'how', 'all', 'any', 'both', 'each', 'few', 'more', 'most', 'other', 'some', 'such', 'no', 'nor', 'not', 'only', 'own', 'same', 'so', 'than', 'too', 'very', 's', 't', 'can', 'will', 'just', 'don', \"don't\", 'should', \"should've\", 'now', 'd', 'll', 'm', 'o', 're', 've', 'y', 'ain', 'aren', \"aren't\", 'couldn', \"couldn't\", 'didn', \"didn't\", 'doesn', \"doesn't\", 'hadn', \"hadn't\", 'hasn', \"hasn't\", 'haven', \"haven't\", 'isn', \"isn't\", 'ma', 'mightn', \"mightn't\", 'mustn', \"mustn't\", 'needn', \"needn't\", 'shan', \"shan't\", 'shouldn', \"shouldn't\", 'wasn', \"wasn't\", 'weren', \"weren't\", 'won', \"won't\", 'wouldn', \"wouldn't\"]\n"
     ]
    }
   ],
   "source": [
    "print(stop)"
   ]
  },
  {
   "cell_type": "code",
   "execution_count": 5,
   "metadata": {},
   "outputs": [],
   "source": [
    "import pandas as pd\n",
    "rawdf = pd.read_csv(\"apts2.csv\",header=None)\n",
    "rawdf.columns = ['Address', 'Neighborhood','Price','Apt Type','Bedrooms','Bathrooms','Rooms','Sqft','Description']"
   ]
  },
  {
   "cell_type": "code",
   "execution_count": 6,
   "metadata": {},
   "outputs": [
    {
     "data": {
      "text/plain": [
       "Address          object\n",
       "Neighborhood     object\n",
       "Price            object\n",
       "Apt Type         object\n",
       "Bedrooms        float64\n",
       "Bathrooms       float64\n",
       "Rooms           float64\n",
       "Sqft             object\n",
       "Description      object\n",
       "dtype: object"
      ]
     },
     "execution_count": 6,
     "metadata": {},
     "output_type": "execute_result"
    }
   ],
   "source": [
    "rawdf.dtypes"
   ]
  },
  {
   "cell_type": "code",
   "execution_count": 7,
   "metadata": {},
   "outputs": [
    {
     "data": {
      "text/html": [
       "<div>\n",
       "<style scoped>\n",
       "    .dataframe tbody tr th:only-of-type {\n",
       "        vertical-align: middle;\n",
       "    }\n",
       "\n",
       "    .dataframe tbody tr th {\n",
       "        vertical-align: top;\n",
       "    }\n",
       "\n",
       "    .dataframe thead th {\n",
       "        text-align: right;\n",
       "    }\n",
       "</style>\n",
       "<table border=\"1\" class=\"dataframe\">\n",
       "  <thead>\n",
       "    <tr style=\"text-align: right;\">\n",
       "      <th></th>\n",
       "      <th>Description</th>\n",
       "    </tr>\n",
       "  </thead>\n",
       "  <tbody>\n",
       "    <tr>\n",
       "      <th>243</th>\n",
       "      <td>The best of both worlds: At Devonshire House, ...</td>\n",
       "    </tr>\n",
       "    <tr>\n",
       "      <th>46</th>\n",
       "      <td>For immediate occupancy: Sprawling 3,173 squar...</td>\n",
       "    </tr>\n",
       "    <tr>\n",
       "      <th>25</th>\n",
       "      <td>70 VESTRY-Once in a generation waterfront home...</td>\n",
       "    </tr>\n",
       "    <tr>\n",
       "      <th>805</th>\n",
       "      <td>Timelessly renovated, 8D's sprawling layout in...</td>\n",
       "    </tr>\n",
       "    <tr>\n",
       "      <th>1040</th>\n",
       "      <td>Embedded within one of the newest members of t...</td>\n",
       "    </tr>\n",
       "    <tr>\n",
       "      <th>1163</th>\n",
       "      <td>**PRICED TO SELL**\\nVERSATILITY meets LUXURY i...</td>\n",
       "    </tr>\n",
       "    <tr>\n",
       "      <th>349</th>\n",
       "      <td>Envisioned by renowned architect Sig Bergamin,...</td>\n",
       "    </tr>\n",
       "    <tr>\n",
       "      <th>592</th>\n",
       "      <td>Who doesn't love hotel living?\\nThis remarkabl...</td>\n",
       "    </tr>\n",
       "    <tr>\n",
       "      <th>1001</th>\n",
       "      <td>Gracious in every way, apartment 2B at 720 For...</td>\n",
       "    </tr>\n",
       "    <tr>\n",
       "      <th>122</th>\n",
       "      <td>A once in a lifetime opportunity to own a cust...</td>\n",
       "    </tr>\n",
       "  </tbody>\n",
       "</table>\n",
       "</div>"
      ],
      "text/plain": [
       "                                            Description\n",
       "243   The best of both worlds: At Devonshire House, ...\n",
       "46    For immediate occupancy: Sprawling 3,173 squar...\n",
       "25    70 VESTRY-Once in a generation waterfront home...\n",
       "805   Timelessly renovated, 8D's sprawling layout in...\n",
       "1040  Embedded within one of the newest members of t...\n",
       "1163  **PRICED TO SELL**\\nVERSATILITY meets LUXURY i...\n",
       "349   Envisioned by renowned architect Sig Bergamin,...\n",
       "592   Who doesn't love hotel living?\\nThis remarkabl...\n",
       "1001  Gracious in every way, apartment 2B at 720 For...\n",
       "122   A once in a lifetime opportunity to own a cust..."
      ]
     },
     "execution_count": 7,
     "metadata": {},
     "output_type": "execute_result"
    }
   ],
   "source": [
    "rawdf[[\"Description\"]].sample(10)"
   ]
  },
  {
   "cell_type": "code",
   "execution_count": 8,
   "metadata": {},
   "outputs": [],
   "source": [
    "rawdf[\"Description\"]=rawdf[\"Description\"].apply(lambda x: \" \".join(x.lower() for x in x.split()))"
   ]
  },
  {
   "cell_type": "code",
   "execution_count": 9,
   "metadata": {},
   "outputs": [
    {
     "data": {
      "text/html": [
       "<div>\n",
       "<style scoped>\n",
       "    .dataframe tbody tr th:only-of-type {\n",
       "        vertical-align: middle;\n",
       "    }\n",
       "\n",
       "    .dataframe tbody tr th {\n",
       "        vertical-align: top;\n",
       "    }\n",
       "\n",
       "    .dataframe thead th {\n",
       "        text-align: right;\n",
       "    }\n",
       "</style>\n",
       "<table border=\"1\" class=\"dataframe\">\n",
       "  <thead>\n",
       "    <tr style=\"text-align: right;\">\n",
       "      <th></th>\n",
       "      <th>Description</th>\n",
       "    </tr>\n",
       "  </thead>\n",
       "  <tbody>\n",
       "    <tr>\n",
       "      <th>21</th>\n",
       "      <td>handsome and refined, this impeccably renovate...</td>\n",
       "    </tr>\n",
       "    <tr>\n",
       "      <th>281</th>\n",
       "      <td>21 jay street is a spectacular landmark condom...</td>\n",
       "    </tr>\n",
       "    <tr>\n",
       "      <th>784</th>\n",
       "      <td>this duplex home exudes charm with its clever ...</td>\n",
       "    </tr>\n",
       "    <tr>\n",
       "      <th>1274</th>\n",
       "      <td>this is your perfect pied- a-terre or starter ...</td>\n",
       "    </tr>\n",
       "    <tr>\n",
       "      <th>956</th>\n",
       "      <td>upper east side medical office space on east 7...</td>\n",
       "    </tr>\n",
       "    <tr>\n",
       "      <th>730</th>\n",
       "      <td>welcome to this absolutely stunning mint condi...</td>\n",
       "    </tr>\n",
       "    <tr>\n",
       "      <th>1124</th>\n",
       "      <td>this rarely available, spacious, corner 1 bed/...</td>\n",
       "    </tr>\n",
       "    <tr>\n",
       "      <th>758</th>\n",
       "      <td>east village dream apartment, this 2 bedroom, ...</td>\n",
       "    </tr>\n",
       "    <tr>\n",
       "      <th>344</th>\n",
       "      <td>located in a sought-after tribeca loft buildin...</td>\n",
       "    </tr>\n",
       "    <tr>\n",
       "      <th>489</th>\n",
       "      <td>price reduction and immediate occupancy. lovel...</td>\n",
       "    </tr>\n",
       "  </tbody>\n",
       "</table>\n",
       "</div>"
      ],
      "text/plain": [
       "                                            Description\n",
       "21    handsome and refined, this impeccably renovate...\n",
       "281   21 jay street is a spectacular landmark condom...\n",
       "784   this duplex home exudes charm with its clever ...\n",
       "1274  this is your perfect pied- a-terre or starter ...\n",
       "956   upper east side medical office space on east 7...\n",
       "730   welcome to this absolutely stunning mint condi...\n",
       "1124  this rarely available, spacious, corner 1 bed/...\n",
       "758   east village dream apartment, this 2 bedroom, ...\n",
       "344   located in a sought-after tribeca loft buildin...\n",
       "489   price reduction and immediate occupancy. lovel..."
      ]
     },
     "execution_count": 9,
     "metadata": {},
     "output_type": "execute_result"
    }
   ],
   "source": [
    "rawdf[[\"Description\"]].sample(10)"
   ]
  },
  {
   "cell_type": "code",
   "execution_count": 10,
   "metadata": {},
   "outputs": [],
   "source": [
    "rawdf[\"Description\"]=rawdf[\"Description\"].apply(lambda x: re.sub('\\s+', ' ', x))"
   ]
  },
  {
   "cell_type": "code",
   "execution_count": 11,
   "metadata": {},
   "outputs": [
    {
     "data": {
      "text/html": [
       "<div>\n",
       "<style scoped>\n",
       "    .dataframe tbody tr th:only-of-type {\n",
       "        vertical-align: middle;\n",
       "    }\n",
       "\n",
       "    .dataframe tbody tr th {\n",
       "        vertical-align: top;\n",
       "    }\n",
       "\n",
       "    .dataframe thead th {\n",
       "        text-align: right;\n",
       "    }\n",
       "</style>\n",
       "<table border=\"1\" class=\"dataframe\">\n",
       "  <thead>\n",
       "    <tr style=\"text-align: right;\">\n",
       "      <th></th>\n",
       "      <th>Description</th>\n",
       "    </tr>\n",
       "  </thead>\n",
       "  <tbody>\n",
       "    <tr>\n",
       "      <th>0</th>\n",
       "      <td>one-of-a-kind, soho loft transformed into extr...</td>\n",
       "    </tr>\n",
       "    <tr>\n",
       "      <th>1</th>\n",
       "      <td>enjoy dramatic 360-degree views of central par...</td>\n",
       "    </tr>\n",
       "    <tr>\n",
       "      <th>2</th>\n",
       "      <td>the penthouse at one hundred barclay offers an...</td>\n",
       "    </tr>\n",
       "    <tr>\n",
       "      <th>3</th>\n",
       "      <td>enjoy panoramic central park, hudson river, ea...</td>\n",
       "    </tr>\n",
       "    <tr>\n",
       "      <th>4</th>\n",
       "      <td>east harlem development opportunity. corner si...</td>\n",
       "    </tr>\n",
       "    <tr>\n",
       "      <th>5</th>\n",
       "      <td>the stately 20 east end, designed by the world...</td>\n",
       "    </tr>\n",
       "    <tr>\n",
       "      <th>6</th>\n",
       "      <td>this exquisite 25 foot wide mansion, prominent...</td>\n",
       "    </tr>\n",
       "    <tr>\n",
       "      <th>7</th>\n",
       "      <td>pass through the stately front doors and into ...</td>\n",
       "    </tr>\n",
       "    <tr>\n",
       "      <th>8</th>\n",
       "      <td>rarely do two contiguous buildings on an absol...</td>\n",
       "    </tr>\n",
       "    <tr>\n",
       "      <th>9</th>\n",
       "      <td>double height penthouse on the 88th floor of f...</td>\n",
       "    </tr>\n",
       "  </tbody>\n",
       "</table>\n",
       "</div>"
      ],
      "text/plain": [
       "                                         Description\n",
       "0  one-of-a-kind, soho loft transformed into extr...\n",
       "1  enjoy dramatic 360-degree views of central par...\n",
       "2  the penthouse at one hundred barclay offers an...\n",
       "3  enjoy panoramic central park, hudson river, ea...\n",
       "4  east harlem development opportunity. corner si...\n",
       "5  the stately 20 east end, designed by the world...\n",
       "6  this exquisite 25 foot wide mansion, prominent...\n",
       "7  pass through the stately front doors and into ...\n",
       "8  rarely do two contiguous buildings on an absol...\n",
       "9  double height penthouse on the 88th floor of f..."
      ]
     },
     "execution_count": 11,
     "metadata": {},
     "output_type": "execute_result"
    }
   ],
   "source": [
    "rawdf[[\"Description\"]].head(10)"
   ]
  },
  {
   "cell_type": "code",
   "execution_count": 12,
   "metadata": {},
   "outputs": [],
   "source": [
    "rawdf[\"Description\"]=rawdf[\"Description\"].apply(lambda x: re.sub('[^\\w\\s]','', x))"
   ]
  },
  {
   "cell_type": "code",
   "execution_count": 25,
   "metadata": {},
   "outputs": [],
   "source": [
    "rawdf[\"Description\"]=rawdf[\"Description\"].apply(lambda x: \" \".join(x for x in x.split() if x not in stop))"
   ]
  },
  {
   "cell_type": "code",
   "execution_count": 14,
   "metadata": {
    "scrolled": true
   },
   "outputs": [
    {
     "data": {
      "text/html": [
       "<div>\n",
       "<style scoped>\n",
       "    .dataframe tbody tr th:only-of-type {\n",
       "        vertical-align: middle;\n",
       "    }\n",
       "\n",
       "    .dataframe tbody tr th {\n",
       "        vertical-align: top;\n",
       "    }\n",
       "\n",
       "    .dataframe thead th {\n",
       "        text-align: right;\n",
       "    }\n",
       "</style>\n",
       "<table border=\"1\" class=\"dataframe\">\n",
       "  <thead>\n",
       "    <tr style=\"text-align: right;\">\n",
       "      <th></th>\n",
       "      <th>Neighborhood</th>\n",
       "      <th>Description</th>\n",
       "    </tr>\n",
       "  </thead>\n",
       "  <tbody>\n",
       "    <tr>\n",
       "      <th>0</th>\n",
       "      <td>Soho/Nolita</td>\n",
       "      <td>oneofakind soho loft transformed extraordinary...</td>\n",
       "    </tr>\n",
       "    <tr>\n",
       "      <th>1</th>\n",
       "      <td>Midtown West</td>\n",
       "      <td>enjoy dramatic 360degree views central park hu...</td>\n",
       "    </tr>\n",
       "    <tr>\n",
       "      <th>2</th>\n",
       "      <td>Tribeca</td>\n",
       "      <td>penthouse one hundred barclay offers exclusive...</td>\n",
       "    </tr>\n",
       "    <tr>\n",
       "      <th>3</th>\n",
       "      <td>Midtown West</td>\n",
       "      <td>enjoy panoramic central park hudson river east...</td>\n",
       "    </tr>\n",
       "    <tr>\n",
       "      <th>4</th>\n",
       "      <td>East Harlem</td>\n",
       "      <td>east harlem development opportunity corner sit...</td>\n",
       "    </tr>\n",
       "    <tr>\n",
       "      <th>5</th>\n",
       "      <td>Upper East Side</td>\n",
       "      <td>stately 20 east end designed worldrenowned rob...</td>\n",
       "    </tr>\n",
       "    <tr>\n",
       "      <th>6</th>\n",
       "      <td>Upper East Side</td>\n",
       "      <td>exquisite 25 foot wide mansion prominently loc...</td>\n",
       "    </tr>\n",
       "    <tr>\n",
       "      <th>7</th>\n",
       "      <td>Sutton Area</td>\n",
       "      <td>pass stately front doors unparalleled grandeur...</td>\n",
       "    </tr>\n",
       "    <tr>\n",
       "      <th>8</th>\n",
       "      <td>Upper East Side</td>\n",
       "      <td>rarely two contiguous buildings absolutely gor...</td>\n",
       "    </tr>\n",
       "    <tr>\n",
       "      <th>9</th>\n",
       "      <td>Chelsea/Hudson Yards</td>\n",
       "      <td>double height penthouse 88th floor fifteen hud...</td>\n",
       "    </tr>\n",
       "  </tbody>\n",
       "</table>\n",
       "</div>"
      ],
      "text/plain": [
       "           Neighborhood                                        Description\n",
       "0           Soho/Nolita  oneofakind soho loft transformed extraordinary...\n",
       "1          Midtown West  enjoy dramatic 360degree views central park hu...\n",
       "2               Tribeca  penthouse one hundred barclay offers exclusive...\n",
       "3          Midtown West  enjoy panoramic central park hudson river east...\n",
       "4           East Harlem  east harlem development opportunity corner sit...\n",
       "5       Upper East Side  stately 20 east end designed worldrenowned rob...\n",
       "6       Upper East Side  exquisite 25 foot wide mansion prominently loc...\n",
       "7           Sutton Area  pass stately front doors unparalleled grandeur...\n",
       "8       Upper East Side  rarely two contiguous buildings absolutely gor...\n",
       "9  Chelsea/Hudson Yards  double height penthouse 88th floor fifteen hud..."
      ]
     },
     "execution_count": 14,
     "metadata": {},
     "output_type": "execute_result"
    }
   ],
   "source": [
    "rawdf[[\"Neighborhood\",\"Description\"]].head(10)"
   ]
  },
  {
   "cell_type": "code",
   "execution_count": 15,
   "metadata": {},
   "outputs": [
    {
     "data": {
      "text/plain": [
       "[WordList(['immediate', 'occupancy']),\n",
       " WordList(['occupancy', 'enjoy']),\n",
       " WordList(['enjoy', 'highest']),\n",
       " WordList(['highest', 'outdoor']),\n",
       " WordList(['outdoor', 'space']),\n",
       " WordList(['space', 'city']),\n",
       " WordList(['city', 'four']),\n",
       " WordList(['four', 'corner']),\n",
       " WordList(['corner', 'terraces']),\n",
       " WordList(['terraces', 'surround']),\n",
       " WordList(['surround', 'fullfloor']),\n",
       " WordList(['fullfloor', 'penthouse']),\n",
       " WordList(['penthouse', 'masterfully']),\n",
       " WordList(['masterfully', 'designed']),\n",
       " WordList(['designed', 'robert']),\n",
       " WordList(['robert', 'stern']),\n",
       " WordList(['stern', 'fullfloor']),\n",
       " WordList(['fullfloor', 'penthouse']),\n",
       " WordList(['penthouse', 'gracious']),\n",
       " WordList(['gracious', '4500']),\n",
       " WordList(['4500', 'square']),\n",
       " WordList(['square', 'foot']),\n",
       " WordList(['foot', 'three']),\n",
       " WordList(['three', 'bedroom']),\n",
       " WordList(['bedroom', '45']),\n",
       " WordList(['45', 'bathroom']),\n",
       " WordList(['bathroom', 'home']),\n",
       " WordList(['home', 'occupies']),\n",
       " WordList(['occupies', 'enviable']),\n",
       " WordList(['enviable', 'position']),\n",
       " WordList(['position', 'top']),\n",
       " WordList(['top', '30']),\n",
       " WordList(['30', 'park']),\n",
       " WordList(['park', 'place']),\n",
       " WordList(['place', 'oneofakind']),\n",
       " WordList(['oneofakind', 'property']),\n",
       " WordList(['property', 'located']),\n",
       " WordList(['located', '82nd']),\n",
       " WordList(['82nd', 'floor']),\n",
       " WordList(['floor', 'buildings']),\n",
       " WordList(['buildings', 'crown']),\n",
       " WordList(['crown', 'boasts']),\n",
       " WordList(['boasts', 'dramatic']),\n",
       " WordList(['dramatic', '360degree']),\n",
       " WordList(['360degree', 'views']),\n",
       " WordList(['views', 'manhattan']),\n",
       " WordList(['manhattan', 'skyline']),\n",
       " WordList(['skyline', 'hudson']),\n",
       " WordList(['hudson', 'river']),\n",
       " WordList(['river', 'east']),\n",
       " WordList(['east', 'river']),\n",
       " WordList(['river', 'new']),\n",
       " WordList(['new', 'york']),\n",
       " WordList(['york', 'harbor']),\n",
       " WordList(['harbor', 'beyond']),\n",
       " WordList(['beyond', 'formal']),\n",
       " WordList(['formal', 'reception']),\n",
       " WordList(['reception', 'hall']),\n",
       " WordList(['hall', 'opens']),\n",
       " WordList(['opens', 'living']),\n",
       " WordList(['living', 'room']),\n",
       " WordList(['room', 'expansive']),\n",
       " WordList(['expansive', 'unobstructed']),\n",
       " WordList(['unobstructed', 'views']),\n",
       " WordList(['views', 'midtown']),\n",
       " WordList(['midtown', 'manhattan']),\n",
       " WordList(['manhattan', 'hudson']),\n",
       " WordList(['hudson', 'east']),\n",
       " WordList(['east', 'rivers']),\n",
       " WordList(['rivers', 'terraces']),\n",
       " WordList(['terraces', 'either']),\n",
       " WordList(['either', 'side']),\n",
       " WordList(['side', 'measuring']),\n",
       " WordList(['measuring', '19']),\n",
       " WordList(['19', 'wide']),\n",
       " WordList(['wide', 'offer']),\n",
       " WordList(['offer', 'continuous']),\n",
       " WordList(['continuous', 'views']),\n",
       " WordList(['views', 'north']),\n",
       " WordList(['north', 'east']),\n",
       " WordList(['east', 'west']),\n",
       " WordList(['west', 'nearly']),\n",
       " WordList(['nearly', '900']),\n",
       " WordList(['900', 'sky']),\n",
       " WordList(['sky', 'separate']),\n",
       " WordList(['separate', 'formal']),\n",
       " WordList(['formal', 'dining']),\n",
       " WordList(['dining', 'room']),\n",
       " WordList(['room', 'enjoys']),\n",
       " WordList(['enjoys', 'access']),\n",
       " WordList(['access', 'onto']),\n",
       " WordList(['onto', 'doubleexposure']),\n",
       " WordList(['doubleexposure', 'terrace']),\n",
       " WordList(['terrace', 'flows']),\n",
       " WordList(['flows', 'seamlessly']),\n",
       " WordList(['seamlessly', 'windowed']),\n",
       " WordList(['windowed', 'eatin']),\n",
       " WordList(['eatin', 'chefs']),\n",
       " WordList(['chefs', 'kitchen']),\n",
       " WordList(['kitchen', 'adjoining']),\n",
       " WordList(['adjoining', 'family']),\n",
       " WordList(['family', 'room']),\n",
       " WordList(['room', 'sunfilled']),\n",
       " WordList(['sunfilled', 'library']),\n",
       " WordList(['library', 'gasburning']),\n",
       " WordList(['gasburning', 'st']),\n",
       " WordList(['st', 'tropez']),\n",
       " WordList(['tropez', 'french']),\n",
       " WordList(['french', 'limestone']),\n",
       " WordList(['limestone', 'fireplace']),\n",
       " WordList(['fireplace', 'wet']),\n",
       " WordList(['wet', 'bar']),\n",
       " WordList(['bar', 'adjoining']),\n",
       " WordList(['adjoining', 'terrace']),\n",
       " WordList(['terrace', 'completes']),\n",
       " WordList(['completes', 'grand']),\n",
       " WordList(['grand', 'entertaining']),\n",
       " WordList(['entertaining', 'spaces']),\n",
       " WordList(['spaces', 'fullfloor']),\n",
       " WordList(['fullfloor', 'penthouse']),\n",
       " WordList(['penthouse', 'southern']),\n",
       " WordList(['southern', 'wing']),\n",
       " WordList(['wing', 'penthouse']),\n",
       " WordList(['penthouse', 'features']),\n",
       " WordList(['features', '27']),\n",
       " WordList(['27', 'wide']),\n",
       " WordList(['wide', 'master']),\n",
       " WordList(['master', 'bedroom']),\n",
       " WordList(['bedroom', 'suite']),\n",
       " WordList(['suite', 'framed']),\n",
       " WordList(['framed', 'double']),\n",
       " WordList(['double', 'terraces']),\n",
       " WordList(['terraces', 'south']),\n",
       " WordList(['south', 'east']),\n",
       " WordList(['east', 'western']),\n",
       " WordList(['western', 'views']),\n",
       " WordList(['views', 'also']),\n",
       " WordList(['also', 'included']),\n",
       " WordList(['included', 'within']),\n",
       " WordList(['within', 'spacious']),\n",
       " WordList(['spacious', 'suite']),\n",
       " WordList(['suite', 'two']),\n",
       " WordList(['two', 'walkin']),\n",
       " WordList(['walkin', 'closets']),\n",
       " WordList(['closets', 'dressing']),\n",
       " WordList(['dressing', 'room']),\n",
       " WordList(['room', 'dual']),\n",
       " WordList(['dual', 'master']),\n",
       " WordList(['master', 'bathrooms']),\n",
       " WordList(['bathrooms', 'two']),\n",
       " WordList(['two', 'additional']),\n",
       " WordList(['additional', 'bedrooms']),\n",
       " WordList(['bedrooms', 'ensuite']),\n",
       " WordList(['ensuite', 'bathrooms']),\n",
       " WordList(['bathrooms', 'notable']),\n",
       " WordList(['notable', 'details']),\n",
       " WordList(['details', 'within']),\n",
       " WordList(['within', 'residence']),\n",
       " WordList(['residence', 'include']),\n",
       " WordList(['include', 'butlers']),\n",
       " WordList(['butlers', 'pantry']),\n",
       " WordList(['pantry', 'fullyequipped']),\n",
       " WordList(['fullyequipped', 'laundry']),\n",
       " WordList(['laundry', 'room']),\n",
       " WordList(['room', 'separate']),\n",
       " WordList(['separate', 'service']),\n",
       " WordList(['service', 'hall']),\n",
       " WordList(['hall', 'dedicated']),\n",
       " WordList(['dedicated', 'service']),\n",
       " WordList(['service', 'entrance']),\n",
       " WordList(['entrance', 'ceiling']),\n",
       " WordList(['ceiling', 'heights']),\n",
       " WordList(['heights', 'soar']),\n",
       " WordList(['soar', '12']),\n",
       " WordList(['12', 'advanced']),\n",
       " WordList(['advanced', 'prewiring']),\n",
       " WordList(['prewiring', 'inhome']),\n",
       " WordList(['inhome', 'technology']),\n",
       " WordList(['technology', 'dedicated']),\n",
       " WordList(['dedicated', 'media']),\n",
       " WordList(['media', 'closet']),\n",
       " WordList(['closet', 'custom']),\n",
       " WordList(['custom', 'interiors']),\n",
       " WordList(['interiors', 'robert']),\n",
       " WordList(['robert', 'stern']),\n",
       " WordList(['stern', 'including']),\n",
       " WordList(['including', 'white']),\n",
       " WordList(['white', 'oak']),\n",
       " WordList(['oak', 'bilotta']),\n",
       " WordList(['bilotta', 'customdesigned']),\n",
       " WordList(['customdesigned', 'kitchen']),\n",
       " WordList(['kitchen', 'cabinetry']),\n",
       " WordList(['cabinetry', 'featuring']),\n",
       " WordList(['featuring', 'gaggenau']),\n",
       " WordList(['gaggenau', 'appliances']),\n",
       " WordList(['appliances', 'polished']),\n",
       " WordList(['polished', 'marble']),\n",
       " WordList(['marble', 'countertops']),\n",
       " WordList(['countertops', 'master']),\n",
       " WordList(['master', 'bathrooms']),\n",
       " WordList(['bathrooms', 'marble']),\n",
       " WordList(['marble', 'slab']),\n",
       " WordList(['slab', 'floors']),\n",
       " WordList(['floors', 'countertops']),\n",
       " WordList(['countertops', 'kallista']),\n",
       " WordList(['kallista', 'fittings']),\n",
       " WordList(['fittings', 'accessories']),\n",
       " WordList(['accessories', 'radiant']),\n",
       " WordList(['radiant', 'heat']),\n",
       " WordList(['heat', 'flooring']),\n",
       " WordList(['flooring', 'ceiling']),\n",
       " WordList(['ceiling', 'hung']),\n",
       " WordList(['hung', 'fourpipe']),\n",
       " WordList(['fourpipe', 'fan']),\n",
       " WordList(['fan', 'coil']),\n",
       " WordList(['coil', 'heating']),\n",
       " WordList(['heating', 'ac']),\n",
       " WordList(['ac', 'system']),\n",
       " WordList(['system', 'dedicated']),\n",
       " WordList(['dedicated', 'zones']),\n",
       " WordList(['zones', 'solid']),\n",
       " WordList(['solid', 'white']),\n",
       " WordList(['white', 'oak']),\n",
       " WordList(['oak', 'floors']),\n",
       " WordList(['floors', 'natural']),\n",
       " WordList(['natural', 'matte']),\n",
       " WordList(['matte', 'finish']),\n",
       " WordList(['finish', 'herringbone']),\n",
       " WordList(['herringbone', 'pattern']),\n",
       " WordList(['pattern', 'select']),\n",
       " WordList(['select', 'formal']),\n",
       " WordList(['formal', 'rooms']),\n",
       " WordList(['rooms', 'complete']),\n",
       " WordList(['complete', 'terms']),\n",
       " WordList(['terms', 'offering']),\n",
       " WordList(['offering', 'plan']),\n",
       " WordList(['plan', 'available']),\n",
       " WordList(['available', 'sponsor']),\n",
       " WordList(['sponsor', 'file']),\n",
       " WordList(['file', 'cd']),\n",
       " WordList(['cd', '130258']),\n",
       " WordList(['130258', 'additional']),\n",
       " WordList(['additional', 'features']),\n",
       " WordList(['features', 'property']),\n",
       " WordList(['property', 'include']),\n",
       " WordList(['include', '4']),\n",
       " WordList(['4', 'corner']),\n",
       " WordList(['corner', 'terraces']),\n",
       " WordList(['terraces', 'butlers']),\n",
       " WordList(['butlers', 'pantry']),\n",
       " WordList(['pantry', 'dual']),\n",
       " WordList(['dual', 'master']),\n",
       " WordList(['master', 'bathrooms']),\n",
       " WordList(['bathrooms', 'separate']),\n",
       " WordList(['separate', 'service']),\n",
       " WordList(['service', 'hall']),\n",
       " WordList(['hall', 'entrance'])]"
      ]
     },
     "execution_count": 15,
     "metadata": {},
     "output_type": "execute_result"
    }
   ],
   "source": [
    "TextBlob(rawdf[\"Description\"][10]).ngrams(2)"
   ]
  },
  {
   "cell_type": "code",
   "execution_count": 21,
   "metadata": {},
   "outputs": [],
   "source": [
    "stop.extend(['home','apartment','building','offer','well','unit','offer','throughout','new york','offers','one','two','residence','floor'])"
   ]
  },
  {
   "cell_type": "code",
   "execution_count": 26,
   "metadata": {},
   "outputs": [
    {
     "data": {
      "text/plain": [
       "<wordcloud.wordcloud.WordCloud at 0x1a1d4c3cc0>"
      ]
     },
     "execution_count": 26,
     "metadata": {},
     "output_type": "execute_result"
    }
   ],
   "source": [
    "wc = WordCloud(background_color=\"white\", width=800, height=400,max_words=35)\n",
    "wc.generate(''.join(rawdf[\"Description\"]))"
   ]
  },
  {
   "cell_type": "code",
   "execution_count": null,
   "metadata": {},
   "outputs": [],
   "source": []
  },
  {
   "cell_type": "code",
   "execution_count": 27,
   "metadata": {},
   "outputs": [],
   "source": [
    "import matplotlib.pyplot as plt\n",
    "%matplotlib inline"
   ]
  },
  {
   "cell_type": "code",
   "execution_count": 34,
   "metadata": {},
   "outputs": [
    {
     "data": {
      "image/png": "[encoded data removed]",
      "text/plain": [
       "<Figure size 432x288 with 1 Axes>"
      ]
     },
     "metadata": {
      "needs_background": "light"
     },
     "output_type": "display_data"
    },
    {
     "data": {
      "image/png": "[encoded data removed]",
      "text/plain": [
       "<Figure size 72x72 with 1 Axes>"
      ]
     },
     "metadata": {
      "needs_background": "light"
     },
     "output_type": "display_data"
    }
   ],
   "source": [
    "plt.imshow(wc, interpolation='bilinear')\n",
    "plt.axis(\"off\")\n",
    "plt.figure(figsize=(1, 1))\n",
    "plt.axis(\"off\")\n",
    "plt.show()"
   ]
  },
  {
   "cell_type": "code",
   "execution_count": 33,
   "metadata": {},
   "outputs": [],
   "source": []
  },
  {
   "cell_type": "code",
   "execution_count": null,
   "metadata": {},
   "outputs": [],
   "source": []
  }
 ],
 "metadata": {
  "kernelspec": {
   "display_name": "Python 3",
   "language": "python",
   "name": "python3"
  },
  "language_info": {
   "codemirror_mode": {
    "name": "ipython",
    "version": 3
   },
   "file_extension": ".py",
   "mimetype": "text/x-python",
   "name": "python",
   "nbconvert_exporter": "python",
   "pygments_lexer": "ipython3",
   "version": "3.6.6"
  }
 },
 "nbformat": 4,
 "nbformat_minor": 2
}
